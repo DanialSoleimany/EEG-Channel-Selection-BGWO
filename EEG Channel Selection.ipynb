{
 "cells": [
  {
   "cell_type": "markdown",
   "id": "9a570798",
   "metadata": {},
   "source": [
    "<img src=\"GWO.jpg\" alt=\"GWO\" width=300>"
   ]
  },
  {
   "cell_type": "markdown",
   "id": "df2c8883",
   "metadata": {},
   "source": [
    "#### Enhancing Person Identification via EEG Channel Selection Utilizing Binary Grey Wolf Optimization Algorithm\n",
    "## \n",
    "## \n"
   ]
  },
  {
   "cell_type": "markdown",
   "id": "0f74431f",
   "metadata": {},
   "source": [
    "### Import Libraries"
   ]
  },
  {
   "cell_type": "code",
   "execution_count": 1,
   "id": "a814ba4b",
   "metadata": {},
   "outputs": [],
   "source": [
    "import numpy as np\n",
    "import pandas as pd\n",
    "from sklearn.model_selection import train_test_split\n",
    "from sklearn.svm import SVC\n",
    "from sklearn.metrics import accuracy_score, f1_score, recall_score, confusion_matrix"
   ]
  },
  {
   "cell_type": "markdown",
   "id": "141417b0",
   "metadata": {},
   "source": [
    "### Load Data"
   ]
  },
  {
   "cell_type": "code",
   "execution_count": 2,
   "id": "30d2ff3a",
   "metadata": {},
   "outputs": [],
   "source": [
    "def load_eeg_data():\n",
    "    \"\"\"\n",
    "    Load EEG dataset from a CSV file.\n",
    "\n",
    "    Returns:\n",
    "        X (numpy.ndarray): Features (input data) from the EEG dataset.\n",
    "        y (numpy.ndarray): Labels (output data) from the EEG dataset.\n",
    "    \"\"\"\n",
    "\n",
    "    # Read the EEG dataset from the CSV file\n",
    "    dataset = pd.read_csv(\"eeg_dataset.csv\")\n",
    "\n",
    "    # Extract features (X) and labels (y)\n",
    "    X = dataset.drop(\"Label\", axis=1).values\n",
    "    y = dataset[\"Label\"].values\n",
    "\n",
    "    return X, y"
   ]
  },
  {
   "cell_type": "markdown",
   "id": "55c84736",
   "metadata": {},
   "source": [
    "### Multiclass Specificity Score"
   ]
  },
  {
   "cell_type": "code",
   "execution_count": 3,
   "id": "a7b5f114",
   "metadata": {},
   "outputs": [],
   "source": [
    "def specificity_score(y_true, y_pred):\n",
    "    \"\"\"\n",
    "    Calculate specificity score for a multiclass classification task.\n",
    "\n",
    "    Args:\n",
    "        y_true (numpy.ndarray): True labels.\n",
    "        y_pred (numpy.ndarray): Predicted labels.\n",
    "\n",
    "    Returns:\n",
    "        float: Mean specificity score across all classes.\n",
    "    \"\"\"\n",
    "    # Compute the confusion matrix\n",
    "    cm = confusion_matrix(y_true, y_pred)\n",
    "    \n",
    "    # Initialize a list to store class-specific specificities\n",
    "    class_specificities = []\n",
    "\n",
    "    # Loop through each class\n",
    "    for i in range(len(cm)):\n",
    "        # True Negative (TN): sum of entries excluding current row and column\n",
    "        tn = np.sum(np.delete(cm, i, axis=0)[:, np.delete(np.arange(len(cm)), i)])\n",
    "        \n",
    "        # False Positive (FP): sum of entries in the current column excluding the true positive\n",
    "        fp = np.sum(np.delete(cm, i, axis=0)[:, i])\n",
    "        \n",
    "        # False Negative (FN): sum of entries in the current row excluding the true positive\n",
    "        fn = np.sum(cm[i, np.delete(np.arange(len(cm)), i)])\n",
    "        \n",
    "        # True Positive (TP): entry in the current row and column\n",
    "        tp = cm[i, i]\n",
    "        \n",
    "        # Specificity for the current class\n",
    "        specificity = tn / (tn + fp)\n",
    "        \n",
    "        # Append the specificity to the list\n",
    "        class_specificities.append(specificity)\n",
    "    \n",
    "    # Return the mean specificity across all classes\n",
    "    return np.mean(class_specificities)"
   ]
  },
  {
   "cell_type": "markdown",
   "id": "3e1b7250",
   "metadata": {},
   "source": [
    "### Objective Function"
   ]
  },
  {
   "cell_type": "code",
   "execution_count": 4,
   "id": "0d91b2af",
   "metadata": {},
   "outputs": [],
   "source": [
    "def objective_function(selected_channels, X, y, clf, num_coefficients=5):\n",
    "    \"\"\"\n",
    "    Objective function for EEG channel selection using BGWO-SVM.\n",
    "    \n",
    "    Args:\n",
    "        selected_channels (numpy.ndarray): Boolean array indicating selected channels.\n",
    "        X (numpy.ndarray): Input features, including all EEG channels.\n",
    "        y (numpy.ndarray): True labels.\n",
    "        clf: Classifier model (e.g., SVM with RBF kernel).\n",
    "        num_coefficients (int): Number of coefficients to consider (default is 5).\n",
    "\n",
    "    Returns:\n",
    "        float: Negative combination of accuracy, F1-score, recall, and specificity.\n",
    "    \"\"\"\n",
    "    # Filter selected channels based on the boolean array\n",
    "    selected_channels = np.array(selected_channels, dtype=bool)\n",
    "    X_selected = X[:, selected_channels]\n",
    "\n",
    "    # Split the data into training and testing sets\n",
    "    X_train, X_test, y_train, y_test = train_test_split(X_selected, y, test_size=0.2, random_state=42)\n",
    "\n",
    "    # Train the classifier\n",
    "    clf.fit(X_train, y_train)\n",
    "\n",
    "    # Predict on the test set\n",
    "    y_pred = clf.predict(X_test)\n",
    "\n",
    "    # Evaluate performance metrics\n",
    "    accuracy = accuracy_score(y_test, y_pred)\n",
    "    f1 = f1_score(y_test, y_pred, average='weighted') \n",
    "    recall = recall_score(y_test, y_pred, average='weighted') \n",
    "    specificity = specificity_score(y_test, y_pred)\n",
    "\n",
    "    # Combine metrics with a negative sign (as we aim to maximize the negative of the combination)\n",
    "    return -(accuracy + f1 + recall + specificity)"
   ]
  },
  {
   "cell_type": "markdown",
   "id": "c97875b9",
   "metadata": {},
   "source": [
    "### Binary Grey Wolf Optimizer (BGWO)"
   ]
  },
  {
   "cell_type": "code",
   "execution_count": 5,
   "id": "3e3df3e1",
   "metadata": {},
   "outputs": [],
   "source": [
    "def binary_grey_wolf_optimizer(objective_func, population_size, num_channels, iterations, args=()):\n",
    "    \"\"\"\n",
    "    Binary Grey Wolf Optimizer for channel selection using a given objective function.\n",
    "\n",
    "    Args:\n",
    "        objective_func (callable): Objective function to optimize.\n",
    "        population_size (int): Size of the binary population.\n",
    "        num_channels (int): Number of EEG channels.\n",
    "        iterations (int): Number of iterations for optimization.\n",
    "        args (tuple): Additional arguments for the objective function (default is an empty tuple).\n",
    "\n",
    "    Returns:\n",
    "        tuple: Tuple containing the best-selected channels and their corresponding performance score.\n",
    "    \"\"\"\n",
    "    # Initialize alpha position and score\n",
    "    alpha_position = np.zeros(num_channels)\n",
    "    alpha_score = float('-inf')\n",
    "\n",
    "    # Initialize the population\n",
    "    population = initialize_population(population_size, num_channels)\n",
    "\n",
    "    # Iterate through optimization iterations\n",
    "    for iteration in range(iterations):\n",
    "        # Evaluate fitness for each individual in the population\n",
    "        for i in range(population_size):\n",
    "            fitness = objective_func(population[i, :], *args)\n",
    "\n",
    "            # Update alpha position if a better solution is found\n",
    "            if fitness > alpha_score:\n",
    "                alpha_score = fitness\n",
    "                alpha_position = population[i, :].copy()\n",
    "\n",
    "        # Update exploration-exploitation parameter 'a'\n",
    "        a = 2 - 2 * iteration / iterations\n",
    "\n",
    "        # Update each individual's position in the population\n",
    "        for i in range(population_size):\n",
    "            r1 = np.random.rand(num_channels)\n",
    "            r2 = np.random.rand(num_channels)\n",
    "            A1 = 2 * a * r1 - a\n",
    "            C1 = 2 * r2\n",
    "\n",
    "            # Update position based on Grey Wolf Optimization formula\n",
    "            D_alpha = abs(C1 * alpha_position - population[i, :])\n",
    "            X1 = (population[i, :] + alpha_position) / 2 + A1 * D_alpha / 2\n",
    "\n",
    "            # Apply sigmoid function to update binary values\n",
    "            population[i, :] = (np.random.rand(num_channels) < 1 / (1 + np.exp(-X1))).astype(bool)\n",
    "\n",
    "    # Return the best-selected channels and their performance score\n",
    "    return alpha_position, alpha_score"
   ]
  },
  {
   "cell_type": "markdown",
   "id": "9094c51a",
   "metadata": {},
   "source": [
    "### Initialize Population"
   ]
  },
  {
   "cell_type": "code",
   "execution_count": 6,
   "id": "a9682547",
   "metadata": {},
   "outputs": [],
   "source": [
    "def initialize_population(population_size, num_channels):\n",
    "    \"\"\"\n",
    "    Initialize a binary population for channel activation/deactivation.\n",
    "\n",
    "    Args:\n",
    "        population_size (int): Size of the binary population.\n",
    "        num_channels (int): Number of EEG channels.\n",
    "\n",
    "    Returns:\n",
    "        numpy.ndarray: Binary population matrix with shape (population_size, num_channels).\n",
    "    \"\"\"\n",
    "    # Generate a random binary matrix representing the activation/deactivation of EEG channels\n",
    "    return np.random.randint(2, size=(population_size, num_channels), dtype=bool)"
   ]
  },
  {
   "cell_type": "markdown",
   "id": "edf52e7e",
   "metadata": {},
   "source": [
    "### Execution Script"
   ]
  },
  {
   "cell_type": "code",
   "execution_count": 7,
   "id": "8d9054de",
   "metadata": {},
   "outputs": [
    {
     "name": "stdout",
     "output_type": "stream",
     "text": [
      "Best Selected Channels: [ 0  3  4  6  8  9 10 11 12]\n",
      "Best Performance: -0.9432167935064611\n"
     ]
    }
   ],
   "source": [
    "if __name__ == \"__main__\":\n",
    "    # Set the population size and number of iterations for the Binary Grey Wolf Optimizer\n",
    "    population_size = 10\n",
    "    iterations = 50\n",
    "\n",
    "    # Load artificial EEG data\n",
    "    X_artificial, y_artificial = load_eeg_data()\n",
    "\n",
    "    # Initialize a Support Vector Machine (SVM) classifier with RBF kernel\n",
    "    clf = SVC(kernel='rbf')\n",
    "\n",
    "    # Determine the number of EEG channels based on the data\n",
    "    num_channels = X_artificial.shape[1]\n",
    "\n",
    "    # Run the Binary Grey Wolf Optimizer to select the best channels and evaluate performance\n",
    "    best_channels, best_performance = binary_grey_wolf_optimizer(\n",
    "        objective_function, population_size, num_channels, iterations, args=(X_artificial, y_artificial, clf)\n",
    "    )\n",
    "\n",
    "    # Print the results\n",
    "    print(f\"Best Selected Channels: {np.where(best_channels)[0]}\")\n",
    "    print(f\"Best Performance: {best_performance}\")"
   ]
  }
 ],
 "metadata": {
  "kernelspec": {
   "display_name": "Python 3 (ipykernel)",
   "language": "python",
   "name": "python3"
  },
  "language_info": {
   "codemirror_mode": {
    "name": "ipython",
    "version": 3
   },
   "file_extension": ".py",
   "mimetype": "text/x-python",
   "name": "python",
   "nbconvert_exporter": "python",
   "pygments_lexer": "ipython3",
   "version": "3.11.5"
  }
 },
 "nbformat": 4,
 "nbformat_minor": 5
}
